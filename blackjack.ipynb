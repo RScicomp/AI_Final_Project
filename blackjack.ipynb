{
 "cells": [
  {
   "cell_type": "code",
   "execution_count": 3,
   "id": "sorted-inventory",
   "metadata": {
    "ExecuteTime": {
     "end_time": "2021-06-04T00:34:00.982555Z",
     "start_time": "2021-06-04T00:34:00.841558Z"
    }
   },
   "outputs": [],
   "source": [
    "import tensorflow \n",
    "from tensorflow.keras.models import Sequential\n",
    "from tensorflow.keras.layers import Dense, Dropout, BatchNormalization\n",
    "from tensorflow.keras.optimizers import Adam\n",
    "\n",
    "import matplotlib.pyplot as plt\n",
    "\n",
    "import random\n",
    "import numpy as np\n",
    "\n",
    "import gym"
   ]
  },
  {
   "cell_type": "code",
   "execution_count": 62,
   "id": "bottom-aside",
   "metadata": {
    "ExecuteTime": {
     "end_time": "2021-06-04T01:11:48.664216Z",
     "start_time": "2021-06-04T01:11:48.641187Z"
    }
   },
   "outputs": [],
   "source": [
    "gamma = 0.95\n",
    "alpha = 0.50\n",
    "learning_rate = 0.01\n",
    "epsilon = 0.999\n",
    "epsilon_decay = 0.90\n",
    "\n",
    "class DQN:\n",
    "\n",
    "    def __init__(self, observation_space, action_space):\n",
    "        \n",
    "        self.epsilon = epsilon\n",
    "        self.alpha = alpha\n",
    "        self.gamma = gamma\n",
    "        self.action_space = action_space\n",
    "        self.observation_space = observation_space\n",
    "        \n",
    "        self.memory = []\n",
    "        self.batch_size = 8\n",
    "\n",
    "        self.model = Sequential()\n",
    "        self.model.add(Dense(32, input_shape=(observation_space,), activation=\"selu\", kernel_initializer='lecun_normal'))\n",
    "        self.model.add(Dense(64, activation=\"selu\", kernel_initializer='lecun_normal'))\n",
    "        self.model.add(Dense(16, activation=\"selu\", kernel_initializer='lecun_normal'))\n",
    "        self.model.add(Dense(8, activation=\"selu\", kernel_initializer='lecun_normal'))\n",
    "        self.model.add(Dropout(0.1))\n",
    "        self.model.add(BatchNormalization())\n",
    "        self.model.add(Dense(self.action_space, activation=\"linear\"))\n",
    "        self.model.compile(loss=\"mse\", optimizer=Adam(lr=learning_rate))\n",
    "    \n",
    "    def get_scores(self):\n",
    "        return self.scores\n",
    "    \n",
    "    def get_rewards(self):\n",
    "        return self.rewards\n",
    "        \n",
    "    def act(self, state):\n",
    "        if np.random.rand() < self.epsilon:\n",
    "            return random.randrange(self.action_space)\n",
    "        q = self.model.predict(state)\n",
    "        return np.argmax(q[0])\n",
    "\n",
    "    def experience_replay(self):\n",
    "        print(self.memory,self.batch_size)\n",
    "        mem_sample = random.sample(self.memory, min(len(self.memory), self.batch_size))\n",
    "        for state, action, reward, next_state, done in mem_sample:\n",
    "            update_value = reward\n",
    "            print(update_value)\n",
    "            if not done:\n",
    "                update_value = self.alpha * (reward + self.gamma * np.max(self.model.predict(next_state)[0]))\n",
    "            q = self.model.predict(state)\n",
    "            q[0][action] = update_value\n",
    "            # print(state,type(state))\n",
    "            # print(q,type(q))\n",
    "            self.model.fit(np.array(state), q, verbose=0)\n",
    "        self.epsilon *= epsilon_decay\n",
    "    def remember(self, state, action, reward, next_state, done):\n",
    "        self.memory.append((state, action, reward, next_state, done))"
   ]
  },
  {
   "cell_type": "code",
   "execution_count": 63,
   "id": "stopped-safety",
   "metadata": {
    "ExecuteTime": {
     "end_time": "2021-06-04T01:11:48.903188Z",
     "start_time": "2021-06-04T01:11:48.888187Z"
    }
   },
   "outputs": [],
   "source": [
    "def blackjack():\n",
    "    env = gym.make(\"Blackjack-v0\")\n",
    "    observation_space_list = list(env.observation_space)\n",
    "    observation_space, action_space = (observation_space_list[0].n, observation_space_list[1].n, observation_space_list[2].n), env.action_space.n\n",
    "    epoch = 0\n",
    "    dqn = DQN(observation_space[0], action_space)\n",
    "    done = False\n",
    "\n",
    "    while not done:\n",
    "        score = 0\n",
    "        epoch += 1\n",
    "        state = env.reset()\n",
    "        print(state)\n",
    "        #state = np.reshape(state, [1, observation_space])\n",
    "        while True:\n",
    "            score += 1\n",
    "            action = dqn.act(state)\n",
    "            next_state, reward, done, info = env.step(action)\n",
    "            reward = reward if not done else -reward\n",
    "            dqn.experience_replay()\n",
    "            state = next_state\n",
    "            if done:\n",
    "                print (\"Round: \" + str(epoch) + \" Score: \" + str(score))\n",
    "                break\n",
    "            dqn.update()"
   ]
  },
  {
   "cell_type": "code",
   "execution_count": 64,
   "id": "brave-vegetable",
   "metadata": {
    "ExecuteTime": {
     "end_time": "2021-06-04T01:11:49.360187Z",
     "start_time": "2021-06-04T01:11:49.264187Z"
    }
   },
   "outputs": [
    {
     "name": "stdout",
     "output_type": "stream",
     "text": [
      "(12, 5, False)\n",
      "[] 8\n",
      "Round: 1 Score: 1\n"
     ]
    }
   ],
   "source": [
    "blackjack()"
   ]
  },
  {
   "cell_type": "code",
   "execution_count": null,
   "id": "damaged-receptor",
   "metadata": {},
   "outputs": [],
   "source": []
  }
 ],
 "metadata": {
  "hide_input": false,
  "kernelspec": {
   "display_name": "Python 3",
   "language": "python",
   "name": "python3"
  },
  "language_info": {
   "codemirror_mode": {
    "name": "ipython",
    "version": 3
   },
   "file_extension": ".py",
   "mimetype": "text/x-python",
   "name": "python",
   "nbconvert_exporter": "python",
   "pygments_lexer": "ipython3",
   "version": "3.7.7"
  },
  "toc": {
   "base_numbering": 1,
   "nav_menu": {},
   "number_sections": true,
   "sideBar": true,
   "skip_h1_title": false,
   "title_cell": "Table of Contents",
   "title_sidebar": "Contents",
   "toc_cell": false,
   "toc_position": {},
   "toc_section_display": true,
   "toc_window_display": false
  },
  "varInspector": {
   "cols": {
    "lenName": 16,
    "lenType": 16,
    "lenVar": 40
   },
   "kernels_config": {
    "python": {
     "delete_cmd_postfix": "",
     "delete_cmd_prefix": "del ",
     "library": "var_list.py",
     "varRefreshCmd": "print(var_dic_list())"
    },
    "r": {
     "delete_cmd_postfix": ") ",
     "delete_cmd_prefix": "rm(",
     "library": "var_list.r",
     "varRefreshCmd": "cat(var_dic_list()) "
    }
   },
   "types_to_exclude": [
    "module",
    "function",
    "builtin_function_or_method",
    "instance",
    "_Feature"
   ],
   "window_display": false
  }
 },
 "nbformat": 4,
 "nbformat_minor": 5
}
